{
 "cells": [
  {
   "cell_type": "code",
   "execution_count": null,
   "id": "6f20489d",
   "metadata": {},
   "outputs": [],
   "source": [
    "'''Story\n",
    "The Pied Piper has been enlisted to play his magical tune and coax all the rats out of town.\n",
    "\n",
    "But some of the rats are deaf and are going the wrong way!\n",
    "\n",
    "Kata Task\n",
    "How many deaf rats are there?\n",
    "\n",
    "Legend\n",
    "P = The Pied Piper\n",
    "O~ = Rat going left\n",
    "~O = Rat going right\n",
    "Example\n",
    "ex1 ~O~O~O~O P has 0 deaf rats\n",
    "ex2 P O~ O~ ~O O~ has 1 deaf rat\n",
    "ex3 ~O~O~O~OP~O~OO~ has 2 deaf rats\n",
    "'''"
   ]
  },
  {
   "cell_type": "code",
   "execution_count": null,
   "id": "fbe7d3e5",
   "metadata": {},
   "outputs": [],
   "source": [
    "def count_deaf_rats(string):\n",
    "    string = string.replace(' ','')\n",
    "    izquierda = string.split('P')[0]\n",
    "    derecha = string.split('P')[1]\n",
    "    rat_izquierda = izquierda[1::2].count('~')\n",
    "    rat_derecha = derecha[1::2].count('O')\n",
    "    total_rats = rat_izquierda + rat_derecha\n",
    "    return total_rats\n",
    "        "
   ]
  },
  {
   "cell_type": "code",
   "execution_count": null,
   "id": "32f78d2c",
   "metadata": {},
   "outputs": [],
   "source": [
    "#Resolución pro\n",
    "\n",
    "string = string.replace(' ','')\n",
    "string = string[::2]\n",
    "string = string.count('O')"
   ]
  },
  {
   "cell_type": "code",
   "execution_count": null,
   "id": "9f4e1d8d",
   "metadata": {},
   "outputs": [],
   "source": [
    "def count_deaf_rats(town):\n",
    "    # Your code here\n",
    "    pass"
   ]
  }
 ],
 "metadata": {
  "kernelspec": {
   "display_name": "Python [conda env:ironhack]",
   "language": "python",
   "name": "conda-env-ironhack-py"
  },
  "language_info": {
   "codemirror_mode": {
    "name": "ipython",
    "version": 3
   },
   "file_extension": ".py",
   "mimetype": "text/x-python",
   "name": "python",
   "nbconvert_exporter": "python",
   "pygments_lexer": "ipython3",
   "version": "3.7.11"
  }
 },
 "nbformat": 4,
 "nbformat_minor": 5
}
