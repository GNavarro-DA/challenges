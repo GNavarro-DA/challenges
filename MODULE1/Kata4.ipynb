{
 "cells": [
  {
   "cell_type": "markdown",
   "id": "4705ba62",
   "metadata": {},
   "source": [
    "https://www.codewars.com/kata/5a03af9606d5b65ff7000009/train/python"
   ]
  },
  {
   "cell_type": "markdown",
   "id": "a5cb8ae9",
   "metadata": {},
   "source": [
    "A company is opening a bank, but the coder who is designing the user class made some errors. They need you to help them.\n",
    "\n",
    "You must include the following:\n",
    "Note: These are NOT steps to code the class\n",
    "\n",
    "A withdraw method\n",
    "* Subtracts money from balance\n",
    "* One parameter, money to withdraw\n",
    "* Raise a ValueError if there isn't enough money to withdraw\n",
    "* Return a string with name and balance(see examples)\n",
    "\n",
    "A check method\n",
    "* Adds money to balance\n",
    "* Two parameters, other user and money\n",
    "* Other user will always be valid\n",
    "* Raise a ValueError if other user doesn't have enough money\n",
    "* Raise a ValueError if checking_account isn't true for other user\n",
    "* Return a string with name and balance plus other name and other balance(see examples)\n",
    "\n",
    "An add_cash method\n",
    "* Adds money to balance\n",
    "* One parameter, money to add\n",
    "* Return a string with name and balance(see examples)\n",
    "\n",
    "Additional Notes:\n",
    "\n",
    "Checking_account should be stored as a boolean\n",
    "No input numbers will be negative\n",
    "Output must end with a period\n",
    "Float numbers will not be used so, balance should be integer\n",
    "No currency will be used"
   ]
  },
  {
   "cell_type": "code",
   "execution_count": 1,
   "id": "74f4c3a5",
   "metadata": {},
   "outputs": [],
   "source": [
    "class User(object):\n",
    "    def __init__(self, name, balance, checking_account):\n",
    "        self.name = name\n",
    "        self.balance = balance\n",
    "        self.checking_account = checking_account\n",
    "        \n",
    "    def withdraw(self, money):\n",
    "        if money > self.balance:\n",
    "            raise ValueError (\"there isn't enough money to withdraw\")\n",
    "        withdraw_result = self.balance - money\n",
    "        self.balance = withdraw_result\n",
    "        return f'{self.name} has {self.balance}.'\n",
    "    \n",
    "    def check(self, user, money):\n",
    "        if money > user.balance:\n",
    "            raise ValueError(f'{user.name} has not enough money')\n",
    "        elif user.checking_account != True:\n",
    "            raise ValueError(f'Checking account is not true for {user.name}')\n",
    "        self.balance = self.balance + money\n",
    "        user.balance = user.balance - money\n",
    "        return f'{self.name} has {self.balance} and {user.name} has {user.balance}.'\n",
    "    \n",
    "    def add_cash(self, money):\n",
    "        self.balance = self.balance + money\n",
    "        return f'{self.name} has {self.balance}.'    \n",
    "    \n",
    "    #Happy coding"
   ]
  },
  {
   "cell_type": "code",
   "execution_count": null,
   "id": "c16c4d10",
   "metadata": {},
   "outputs": [],
   "source": []
  }
 ],
 "metadata": {
  "kernelspec": {
   "display_name": "Python [conda env:ironhack]",
   "language": "python",
   "name": "conda-env-ironhack-py"
  },
  "language_info": {
   "codemirror_mode": {
    "name": "ipython",
    "version": 3
   },
   "file_extension": ".py",
   "mimetype": "text/x-python",
   "name": "python",
   "nbconvert_exporter": "python",
   "pygments_lexer": "ipython3",
   "version": "3.7.11"
  }
 },
 "nbformat": 4,
 "nbformat_minor": 5
}
