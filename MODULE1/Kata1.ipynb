{
 "cells": [
  {
   "cell_type": "code",
   "execution_count": 56,
   "id": "009d6f9f",
   "metadata": {},
   "outputs": [
    {
     "name": "stdout",
     "output_type": "stream",
     "text": [
      "Unbalanced\n"
     ]
    }
   ],
   "source": [
    "x = 123123123123123123123456456456678678\n",
    "longitud = len(str(x))\n",
    "\n",
    "string_x = str(x)\n",
    "\n",
    "suma_izq = 0\n",
    "suma_dcha = 0\n",
    "\n",
    "if longitud%2 == 0: #condition for even numbers\n",
    "    len_str = int((len(string_x)/2)-1)\n",
    "    string_izq = string_x[0:len_str]\n",
    "    string_dcha = string_x[len_str + 2:]\n",
    "    for i in string_izq:\n",
    "        suma_izq += int(i)\n",
    "    for i in string_dcha:\n",
    "        suma_dcha += int(i)\n",
    "    if suma_izq == suma_dcha: \n",
    "        print(\"Balanced\")\n",
    "    else:\n",
    "        print(\"Unbalanced\")\n",
    "elif longitud%2 != 0: #condition for odd numbers\n",
    "    len_str = int((len(string_x)/2)-0.5)\n",
    "    string_izq = string_x[0:len_str]\n",
    "    string_dcha = string_x[len_str + 1:]\n",
    "    for i in string_izq:\n",
    "        suma_izq += int(i)\n",
    "    for i in string_dcha:\n",
    "        suma_dcha += int(i)\n",
    "    if suma_izq == suma_dcha: \n",
    "        print(\"Balanced\")\n",
    "    else:\n",
    "        print(\"Unbalanced\")"
   ]
  },
  {
   "cell_type": "code",
   "execution_count": 1,
   "id": "17381086",
   "metadata": {},
   "outputs": [],
   "source": [
    "'''\n",
    "----\n",
    "Kata 1: Balanced numbers\n",
    "----\n",
    "In this kata I've created a function for checking if a number entered is balanced or not.\n",
    "A number is considered as balanced if the sum of its digists from left to middle (not included) and from middle (not included) to right are equals\n",
    "'''\n",
    "#First Name the function here\n",
    "def balanced_num(number):\n",
    "    longitud = len(str(number)) #Calculate the lenght of the number transforming it to a string\n",
    "    string_number = str(number) #Create a variable an save the number transformed to string\n",
    "    suma_izq = 0 #Create a variable to store the sum of the digits that are to the left of the middle\n",
    "    suma_dcha = 0 #Create a variable to store the sum of the digits that are to the right of the middle\n",
    "    # Create a conditional to difference if the number entered has a odd or even number of digits \n",
    "    # This will help us to know if there is a sigle digit as middle digit or two digits. \n",
    "    if longitud%2 == 0: #This is for number with even length\n",
    "        len_str = int((len(string_number)/2)-1) #As a even length, we have to exclude two middle number, that is one per each sub-string\n",
    "        string_izq = string_number[0:len_str] #now, we define the left sub-string with all left number and stopping (excluding) the first middle number\n",
    "        string_dcha = string_number[len_str + 2:] #now, we define the right sud-string\n",
    "        for i in string_izq: #iteration for sum all digits of each sub-string and compare both\n",
    "            suma_izq += int(i)\n",
    "        for i in string_dcha:\n",
    "            suma_dcha += int(i)\n",
    "        if suma_izq == suma_dcha: #compare both sub-strings and conclude with the propper message \n",
    "            return \"Balanced\"\n",
    "        else:\n",
    "            return \"Unbalanced\"\n",
    "    elif longitud%2 != 0: #Now, repeat the process for numbers with odd number of digits \n",
    "        len_str = int((len(string_number)/2)-0.5) #Now we have to exclude just one middle number, that is half number per sub-string\n",
    "        string_izq = string_number[0:len_str]\n",
    "        string_dcha = string_number[len_str + 1:]\n",
    "        for i in string_izq:\n",
    "            suma_izq += int(i)\n",
    "        for i in string_dcha:\n",
    "            suma_dcha += int(i)\n",
    "        if suma_izq == suma_dcha: \n",
    "            return \"Balanced\"\n",
    "        else:\n",
    "            return \"Unbalanced\""
   ]
  },
  {
   "cell_type": "code",
   "execution_count": 2,
   "id": "e7e3a293",
   "metadata": {},
   "outputs": [
    {
     "data": {
      "text/plain": [
       "'Unbalanced'"
      ]
     },
     "execution_count": 2,
     "metadata": {},
     "output_type": "execute_result"
    }
   ],
   "source": [
    "x = 123123123123123123123456456456678678\n",
    "balanced_num(x)"
   ]
  },
  {
   "cell_type": "code",
   "execution_count": null,
   "id": "02f7be2a",
   "metadata": {},
   "outputs": [],
   "source": []
  }
 ],
 "metadata": {
  "kernelspec": {
   "display_name": "Python 3 (ipykernel)",
   "language": "python",
   "name": "python3"
  },
  "language_info": {
   "codemirror_mode": {
    "name": "ipython",
    "version": 3
   },
   "file_extension": ".py",
   "mimetype": "text/x-python",
   "name": "python",
   "nbconvert_exporter": "python",
   "pygments_lexer": "ipython3",
   "version": "3.7.11"
  }
 },
 "nbformat": 4,
 "nbformat_minor": 5
}
