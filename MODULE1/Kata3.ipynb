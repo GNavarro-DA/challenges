{
 "cells": [
  {
   "cell_type": "markdown",
   "id": "564c49a2",
   "metadata": {},
   "source": [
    "https://www.codewars.com/kata/5a25ac6ac5e284cfbe000111/train/python"
   ]
  },
  {
   "cell_type": "code",
   "execution_count": 56,
   "id": "ad749cf3",
   "metadata": {},
   "outputs": [],
   "source": [
    "def triangle(row):\n",
    "    str(row)\n",
    "    lista = []\n",
    "    if len(row)==1:\n",
    "        return row\n",
    "    else: \n",
    "        for i in row:\n",
    "            lista.append(i)\n",
    "        def following_lists(lista):         \n",
    "            new_list= []\n",
    "            for i in range(len(lista)-1):\n",
    "                if lista[i] == lista[i+1]:\n",
    "                    new_list.append(lista[i])\n",
    "                elif lista[i] == 'R':\n",
    "                    if lista[i +1] == 'G':\n",
    "                        new_list.append('B')\n",
    "                    elif lista[i +1] == 'B':\n",
    "                        new_list.append('G')\n",
    "                elif lista[i] == 'G':\n",
    "                    if lista[i +1] == 'R':\n",
    "                         new_list.append('B')\n",
    "                    elif lista[i +1] == 'B':\n",
    "                        new_list.append('R')\n",
    "                elif lista[i] == 'B':\n",
    "                    if lista[i +1] == 'R':\n",
    "                         new_list.append('G')\n",
    "                    elif lista[i +1] == 'G':\n",
    "                        new_list.append('R')\n",
    "            return new_list\n",
    "    \n",
    "    x = following_lists(lista)\n",
    "    \n",
    "    for i in range(len(x)-1):\n",
    "        x = following_lists(x)\n",
    "        \n",
    "    result = ''.join(x)\n",
    "\n",
    "    return result\n"
   ]
  },
  {
   "cell_type": "code",
   "execution_count": 57,
   "id": "383f1ade",
   "metadata": {},
   "outputs": [
    {
     "data": {
      "text/plain": [
       "'B'"
      ]
     },
     "execution_count": 57,
     "metadata": {},
     "output_type": "execute_result"
    }
   ],
   "source": [
    "my_string = 'BBRRGGRGB'\n",
    "t = triangle(my_string)\n",
    "t"
   ]
  }
 ],
 "metadata": {
  "kernelspec": {
   "display_name": "Python [conda env:ironhack]",
   "language": "python",
   "name": "conda-env-ironhack-py"
  },
  "language_info": {
   "codemirror_mode": {
    "name": "ipython",
    "version": 3
   },
   "file_extension": ".py",
   "mimetype": "text/x-python",
   "name": "python",
   "nbconvert_exporter": "python",
   "pygments_lexer": "ipython3",
   "version": "3.7.11"
  }
 },
 "nbformat": 4,
 "nbformat_minor": 5
}
