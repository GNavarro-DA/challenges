{
 "cells": [
  {
   "cell_type": "markdown",
   "id": "98971a15",
   "metadata": {},
   "source": [
    "https://www.codewars.com/kata/5c4cb8fc3cf185147a5bdd02/train/python"
   ]
  },
  {
   "cell_type": "markdown",
   "id": "70ffcec9",
   "metadata": {},
   "source": [
    "KATA 2. SUM VS PRODUCT"
   ]
  },
  {
   "cell_type": "markdown",
   "id": "0e7650f7",
   "metadata": {},
   "source": [
    "For this Kata you will be given an array of numbers and another number n. You have to find the sum of the n largest numbers of the array and the product of the n smallest numbers of the array, and compare the two.\n",
    "\n",
    "If the sum of the n largest numbers is higher, return \"sum\"\n",
    "If the product of the n smallest numbers is higher, return \"product\"\n",
    "If the 2 values are equal, return \"same\"\n",
    "\n",
    "Note The array will never be empty and n will always be smaller than the length of the array."
   ]
  },
  {
   "cell_type": "code",
   "execution_count": 23,
   "id": "76c737b4",
   "metadata": {},
   "outputs": [],
   "source": [
    "def sum_or_product(array, n):\n",
    "    product_numbers = []\n",
    "    sum_numbers = []\n",
    "    sum_list = sorted(array)  \n",
    "    product_list = sorted(array, reverse=True)\n",
    "    #producto = 1\n",
    "    \n",
    "    for i in sum_list[:n]:\n",
    "        sum_numbers.append(i)\n",
    "\n",
    "    for i in product_list[:n]:\n",
    "        product_numbers.append(i)\n",
    "        \n",
    "    for i in product_numbers:\n",
    "        producto = producto * i\n",
    "    \n",
    "    suma = sum(sum_numbers)\n",
    "    \n",
    "    if producto > suma: \n",
    "        return 'product'\n",
    "    elif producto < suma: \n",
    "        return 'sum'\n",
    "    else: \n",
    "        return 'same'\n"
   ]
  },
  {
   "cell_type": "code",
   "execution_count": 24,
   "id": "d8484ed9",
   "metadata": {},
   "outputs": [
    {
     "data": {
      "text/plain": [
       "'product'"
      ]
     },
     "execution_count": 24,
     "metadata": {},
     "output_type": "execute_result"
    }
   ],
   "source": [
    "\n",
    "hola = [-10, 42, 5, -7, 3, 18]\n",
    "sum_or_product(hola, 3)"
   ]
  },
  {
   "cell_type": "code",
   "execution_count": null,
   "id": "b50fd5e7",
   "metadata": {},
   "outputs": [],
   "source": []
  }
 ],
 "metadata": {
  "kernelspec": {
   "display_name": "Python [conda env:ironhack]",
   "language": "python",
   "name": "conda-env-ironhack-py"
  },
  "language_info": {
   "codemirror_mode": {
    "name": "ipython",
    "version": 3
   },
   "file_extension": ".py",
   "mimetype": "text/x-python",
   "name": "python",
   "nbconvert_exporter": "python",
   "pygments_lexer": "ipython3",
   "version": "3.7.11"
  }
 },
 "nbformat": 4,
 "nbformat_minor": 5
}
