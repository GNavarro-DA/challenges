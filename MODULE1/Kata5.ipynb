{
 "cells": [
  {
   "cell_type": "markdown",
   "id": "5f02e9f3",
   "metadata": {},
   "source": [
    "https://www.codewars.com/kata/561f18d45df118e7c400000b/train/python"
   ]
  },
  {
   "cell_type": "code",
   "execution_count": 49,
   "id": "799541ab",
   "metadata": {},
   "outputs": [],
   "source": [
    "def eval_prod_sum(arr, num_fact, num_add, max_val):\n",
    "    # your code here\n",
    "    import random\n",
    "    from itertools import combinations\n",
    "    import numpy as np\n",
    "    \n",
    "    count1= 0\n",
    "    count2= 0\n",
    "    count3=0\n",
    "    \n",
    "    for i in arr:\n",
    "        if type(i) == str:\n",
    "            return 'Error. Unexpected entries'\n",
    "        elif type(i) == float:\n",
    "            return 'Error. Unexpected entries'\n",
    "        elif type(i) != int:\n",
    "            return 'Error. Unexpected entries'\n",
    "        else:\n",
    "            continue\n",
    "            \n",
    "    \n",
    "    if type(num_fact) == str:\n",
    "        return 'Error. Unexpected entries'\n",
    "    elif type(num_fact) == float:\n",
    "        return 'Error. Unexpected entries'\n",
    "    elif type(num_fact) == int:\n",
    "        if num_fact <= 0:\n",
    "            return 'Error. Unexpected entries'\n",
    "    \n",
    "    if type(num_add) == str:\n",
    "        return 'Error. Unexpected entries'\n",
    "    elif type(num_add) == float:\n",
    "        return 'Error. Unexpected entries'\n",
    "    elif type(num_add) == int:\n",
    "        if num_add <= 0:\n",
    "            return 'Error. Unexpected entries'\n",
    "        \n",
    "    if type(max_val) == str:\n",
    "        return 'Error. Unexpected entries'\n",
    "    elif type(max_val) == float:\n",
    "        return 'Error. Unexpected entries'\n",
    "    elif type(max_val) == int:\n",
    "        if max_val <= 0:\n",
    "            return 'Error. Unexpected entries'\n",
    "    \n",
    "    n = list(combinations(arr,num_fact))\n",
    "    \n",
    "    if num_fact > len(arr):\n",
    "        return 'Error. Number of factors too high'\n",
    "    elif num_add > len(list(combinations(arr,num_fact))):\n",
    "        return 'Error. Number of addens too high'\n",
    "    \n",
    "    \n",
    "    n = list(combinations(arr,num_fact))\n",
    "    productos = [[np.prod(i)] for i in n]\n",
    "    n2 = list(combinations(productos, num_add))\n",
    "    sumas = [[np.sum(i)] for i in n2]\n",
    "\n",
    "\n",
    "    for i in sumas: \n",
    "        for j in i: \n",
    "            if j < max_val:\n",
    "                count1 += 1\n",
    "            elif j == max_val:\n",
    "                count2 += 1\n",
    "            if j > max_val:\n",
    "                count3 += 1\n",
    "\n",
    "    \n",
    "    return [{f'Below than {max_val}': count1}, {f'Equals to {max_val}': count2}, {f'Higher than {max_val}': count3}]\n"
   ]
  },
  {
   "cell_type": "code",
   "execution_count": 50,
   "id": "166bfdeb",
   "metadata": {},
   "outputs": [
    {
     "data": {
      "text/plain": [
       "[{'Below than 30': 15}, {'Equals to 30': 0}, {'Higher than 30': 0}]"
      ]
     },
     "execution_count": 50,
     "metadata": {},
     "output_type": "execute_result"
    }
   ],
   "source": [
    "lista = [2,3,2,5]\n",
    "eval_prod_sum(lista, 2, 2, 30)"
   ]
  },
  {
   "cell_type": "code",
   "execution_count": null,
   "id": "07a8390d",
   "metadata": {},
   "outputs": [],
   "source": []
  }
 ],
 "metadata": {
  "kernelspec": {
   "display_name": "Python [conda env:ironhack]",
   "language": "python",
   "name": "conda-env-ironhack-py"
  },
  "language_info": {
   "codemirror_mode": {
    "name": "ipython",
    "version": 3
   },
   "file_extension": ".py",
   "mimetype": "text/x-python",
   "name": "python",
   "nbconvert_exporter": "python",
   "pygments_lexer": "ipython3",
   "version": "3.7.11"
  }
 },
 "nbformat": 4,
 "nbformat_minor": 5
}
