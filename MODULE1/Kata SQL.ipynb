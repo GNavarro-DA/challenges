{
 "cells": [
  {
   "cell_type": "markdown",
   "id": "9f9cb11d",
   "metadata": {},
   "source": [
    "The following query is the one accepted by the SQL kata:\n",
    "\n",
    "SELECT c.customer_id, c.email, COUNT(p.payment_id) AS payments_count, CAST(SUM(p.amount) AS float) AS total_amount\n",
    "FROM customer c\n",
    "INNER JOIN payment p ON c.customer_id = p.customer_id\n",
    "GROUP BY c.customer_id, c.email\n",
    "ORDER BY total_amount DESC\n",
    "LIMIT 10;"
   ]
  },
  {
   "cell_type": "code",
   "execution_count": null,
   "id": "ad5eb8e2",
   "metadata": {},
   "outputs": [],
   "source": []
  }
 ],
 "metadata": {
  "kernelspec": {
   "display_name": "Python [conda env:ironhack]",
   "language": "python",
   "name": "conda-env-ironhack-py"
  },
  "language_info": {
   "codemirror_mode": {
    "name": "ipython",
    "version": 3
   },
   "file_extension": ".py",
   "mimetype": "text/x-python",
   "name": "python",
   "nbconvert_exporter": "python",
   "pygments_lexer": "ipython3",
   "version": "3.7.11"
  }
 },
 "nbformat": 4,
 "nbformat_minor": 5
}
